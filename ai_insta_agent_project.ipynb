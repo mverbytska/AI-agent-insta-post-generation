{
  "cells": [
    {
      "cell_type": "markdown",
      "metadata": {
        "id": "PTJOv6V9r8Ya"
      },
      "source": [
        "# AI-agent for Instagram posts generating in a tone-of-voice of a specified page\n",
        "## Task description:\n",
        "Using open-source LLM models from HuggingFace, create an agent that accepts instructions like\n",
        "\"create a new post about a 25-liter Adventure backpack for $200,\n",
        "which is great for mountaineers\" or \"write me a post about the giveaway of 3 bags from our new collection\" and generates an Instagram post in the style of\n",
        "this page: https://www.instagram.com/ospreypacks/\n"
      ]
    },
    {
      "cell_type": "markdown",
      "metadata": {
        "id": "Ni7Meosaw0rM"
      },
      "source": [
        "### 0. Modules importing"
      ]
    },
    {
      "cell_type": "code",
      "execution_count": 1,
      "metadata": {
        "id": "ZhsPy1whDMPu"
      },
      "outputs": [],
      "source": [
        "import pandas as pd\n",
        "import os\n",
        "from transformers import (AutoTokenizer,\n",
        "                          AutoModelForCausalLM,\n",
        "                          BitsAndBytesConfig,\n",
        "                          pipeline)\n",
        "import torch\n",
        "from langchain_huggingface import HuggingFacePipeline\n",
        "from langchain.prompts import FewShotPromptTemplate, PromptTemplate\n",
        "#import gradio as gr\n",
        "# base_model = 'tiiuae/falcon-7b'\n",
        "base_model = 'HuggingFaceH4/zephyr-7b-beta'\n",
        "# instagram_dataset = 'instagram_data.csv'\n",
        "instagram_dataset = 'drive/MyDrive/datasets/instagram_data.csv'"
      ]
    },
    {
      "cell_type": "markdown",
      "metadata": {
        "id": "NdV2Zlcaw8jG"
      },
      "source": [
        "### 1. Captions data exploration"
      ]
    },
    {
      "cell_type": "code",
      "execution_count": 2,
      "metadata": {
        "id": "0zIHAue3mmbQ"
      },
      "outputs": [],
      "source": [
        "df = pd.read_csv(instagram_dataset, low_memory=False)"
      ]
    },
    {
      "cell_type": "code",
      "execution_count": 3,
      "metadata": {
        "colab": {
          "base_uri": "https://localhost:8080/",
          "height": 206
        },
        "id": "NqtgvtRthv_W",
        "outputId": "d4705187-8742-4522-9f35-3db7ac13b82b"
      },
      "outputs": [
        {
          "output_type": "execute_result",
          "data": {
            "text/plain": [
              "                                             caption\n",
              "0  Cheers to 50 years - to celebrate, we’re highl...\n",
              "1  Want to become an Osprey Ambassador? \\n\\nWhile...\n",
              "2  The light at the end of April's showers 🌼🌷 Whe...\n",
              "3  A half-century later and we’re just as passion...\n",
              "4  From ocean-bound PET bottles, to sustainable* ..."
            ],
            "text/html": [
              "\n",
              "  <div id=\"df-32f917eb-8289-4a4f-8a41-9f488b9ee677\" class=\"colab-df-container\">\n",
              "    <div>\n",
              "<style scoped>\n",
              "    .dataframe tbody tr th:only-of-type {\n",
              "        vertical-align: middle;\n",
              "    }\n",
              "\n",
              "    .dataframe tbody tr th {\n",
              "        vertical-align: top;\n",
              "    }\n",
              "\n",
              "    .dataframe thead th {\n",
              "        text-align: right;\n",
              "    }\n",
              "</style>\n",
              "<table border=\"1\" class=\"dataframe\">\n",
              "  <thead>\n",
              "    <tr style=\"text-align: right;\">\n",
              "      <th></th>\n",
              "      <th>caption</th>\n",
              "    </tr>\n",
              "  </thead>\n",
              "  <tbody>\n",
              "    <tr>\n",
              "      <th>0</th>\n",
              "      <td>Cheers to 50 years - to celebrate, we’re highl...</td>\n",
              "    </tr>\n",
              "    <tr>\n",
              "      <th>1</th>\n",
              "      <td>Want to become an Osprey Ambassador? \\n\\nWhile...</td>\n",
              "    </tr>\n",
              "    <tr>\n",
              "      <th>2</th>\n",
              "      <td>The light at the end of April's showers 🌼🌷 Whe...</td>\n",
              "    </tr>\n",
              "    <tr>\n",
              "      <th>3</th>\n",
              "      <td>A half-century later and we’re just as passion...</td>\n",
              "    </tr>\n",
              "    <tr>\n",
              "      <th>4</th>\n",
              "      <td>From ocean-bound PET bottles, to sustainable* ...</td>\n",
              "    </tr>\n",
              "  </tbody>\n",
              "</table>\n",
              "</div>\n",
              "    <div class=\"colab-df-buttons\">\n",
              "\n",
              "  <div class=\"colab-df-container\">\n",
              "    <button class=\"colab-df-convert\" onclick=\"convertToInteractive('df-32f917eb-8289-4a4f-8a41-9f488b9ee677')\"\n",
              "            title=\"Convert this dataframe to an interactive table.\"\n",
              "            style=\"display:none;\">\n",
              "\n",
              "  <svg xmlns=\"http://www.w3.org/2000/svg\" height=\"24px\" viewBox=\"0 -960 960 960\">\n",
              "    <path d=\"M120-120v-720h720v720H120Zm60-500h600v-160H180v160Zm220 220h160v-160H400v160Zm0 220h160v-160H400v160ZM180-400h160v-160H180v160Zm440 0h160v-160H620v160ZM180-180h160v-160H180v160Zm440 0h160v-160H620v160Z\"/>\n",
              "  </svg>\n",
              "    </button>\n",
              "\n",
              "  <style>\n",
              "    .colab-df-container {\n",
              "      display:flex;\n",
              "      gap: 12px;\n",
              "    }\n",
              "\n",
              "    .colab-df-convert {\n",
              "      background-color: #E8F0FE;\n",
              "      border: none;\n",
              "      border-radius: 50%;\n",
              "      cursor: pointer;\n",
              "      display: none;\n",
              "      fill: #1967D2;\n",
              "      height: 32px;\n",
              "      padding: 0 0 0 0;\n",
              "      width: 32px;\n",
              "    }\n",
              "\n",
              "    .colab-df-convert:hover {\n",
              "      background-color: #E2EBFA;\n",
              "      box-shadow: 0px 1px 2px rgba(60, 64, 67, 0.3), 0px 1px 3px 1px rgba(60, 64, 67, 0.15);\n",
              "      fill: #174EA6;\n",
              "    }\n",
              "\n",
              "    .colab-df-buttons div {\n",
              "      margin-bottom: 4px;\n",
              "    }\n",
              "\n",
              "    [theme=dark] .colab-df-convert {\n",
              "      background-color: #3B4455;\n",
              "      fill: #D2E3FC;\n",
              "    }\n",
              "\n",
              "    [theme=dark] .colab-df-convert:hover {\n",
              "      background-color: #434B5C;\n",
              "      box-shadow: 0px 1px 3px 1px rgba(0, 0, 0, 0.15);\n",
              "      filter: drop-shadow(0px 1px 2px rgba(0, 0, 0, 0.3));\n",
              "      fill: #FFFFFF;\n",
              "    }\n",
              "  </style>\n",
              "\n",
              "    <script>\n",
              "      const buttonEl =\n",
              "        document.querySelector('#df-32f917eb-8289-4a4f-8a41-9f488b9ee677 button.colab-df-convert');\n",
              "      buttonEl.style.display =\n",
              "        google.colab.kernel.accessAllowed ? 'block' : 'none';\n",
              "\n",
              "      async function convertToInteractive(key) {\n",
              "        const element = document.querySelector('#df-32f917eb-8289-4a4f-8a41-9f488b9ee677');\n",
              "        const dataTable =\n",
              "          await google.colab.kernel.invokeFunction('convertToInteractive',\n",
              "                                                    [key], {});\n",
              "        if (!dataTable) return;\n",
              "\n",
              "        const docLinkHtml = 'Like what you see? Visit the ' +\n",
              "          '<a target=\"_blank\" href=https://colab.research.google.com/notebooks/data_table.ipynb>data table notebook</a>'\n",
              "          + ' to learn more about interactive tables.';\n",
              "        element.innerHTML = '';\n",
              "        dataTable['output_type'] = 'display_data';\n",
              "        await google.colab.output.renderOutput(dataTable, element);\n",
              "        const docLink = document.createElement('div');\n",
              "        docLink.innerHTML = docLinkHtml;\n",
              "        element.appendChild(docLink);\n",
              "      }\n",
              "    </script>\n",
              "  </div>\n",
              "\n",
              "\n",
              "<div id=\"df-4a82a551-89aa-43bb-ad2d-a9fd28667ace\">\n",
              "  <button class=\"colab-df-quickchart\" onclick=\"quickchart('df-4a82a551-89aa-43bb-ad2d-a9fd28667ace')\"\n",
              "            title=\"Suggest charts\"\n",
              "            style=\"display:none;\">\n",
              "\n",
              "<svg xmlns=\"http://www.w3.org/2000/svg\" height=\"24px\"viewBox=\"0 0 24 24\"\n",
              "     width=\"24px\">\n",
              "    <g>\n",
              "        <path d=\"M19 3H5c-1.1 0-2 .9-2 2v14c0 1.1.9 2 2 2h14c1.1 0 2-.9 2-2V5c0-1.1-.9-2-2-2zM9 17H7v-7h2v7zm4 0h-2V7h2v10zm4 0h-2v-4h2v4z\"/>\n",
              "    </g>\n",
              "</svg>\n",
              "  </button>\n",
              "\n",
              "<style>\n",
              "  .colab-df-quickchart {\n",
              "      --bg-color: #E8F0FE;\n",
              "      --fill-color: #1967D2;\n",
              "      --hover-bg-color: #E2EBFA;\n",
              "      --hover-fill-color: #174EA6;\n",
              "      --disabled-fill-color: #AAA;\n",
              "      --disabled-bg-color: #DDD;\n",
              "  }\n",
              "\n",
              "  [theme=dark] .colab-df-quickchart {\n",
              "      --bg-color: #3B4455;\n",
              "      --fill-color: #D2E3FC;\n",
              "      --hover-bg-color: #434B5C;\n",
              "      --hover-fill-color: #FFFFFF;\n",
              "      --disabled-bg-color: #3B4455;\n",
              "      --disabled-fill-color: #666;\n",
              "  }\n",
              "\n",
              "  .colab-df-quickchart {\n",
              "    background-color: var(--bg-color);\n",
              "    border: none;\n",
              "    border-radius: 50%;\n",
              "    cursor: pointer;\n",
              "    display: none;\n",
              "    fill: var(--fill-color);\n",
              "    height: 32px;\n",
              "    padding: 0;\n",
              "    width: 32px;\n",
              "  }\n",
              "\n",
              "  .colab-df-quickchart:hover {\n",
              "    background-color: var(--hover-bg-color);\n",
              "    box-shadow: 0 1px 2px rgba(60, 64, 67, 0.3), 0 1px 3px 1px rgba(60, 64, 67, 0.15);\n",
              "    fill: var(--button-hover-fill-color);\n",
              "  }\n",
              "\n",
              "  .colab-df-quickchart-complete:disabled,\n",
              "  .colab-df-quickchart-complete:disabled:hover {\n",
              "    background-color: var(--disabled-bg-color);\n",
              "    fill: var(--disabled-fill-color);\n",
              "    box-shadow: none;\n",
              "  }\n",
              "\n",
              "  .colab-df-spinner {\n",
              "    border: 2px solid var(--fill-color);\n",
              "    border-color: transparent;\n",
              "    border-bottom-color: var(--fill-color);\n",
              "    animation:\n",
              "      spin 1s steps(1) infinite;\n",
              "  }\n",
              "\n",
              "  @keyframes spin {\n",
              "    0% {\n",
              "      border-color: transparent;\n",
              "      border-bottom-color: var(--fill-color);\n",
              "      border-left-color: var(--fill-color);\n",
              "    }\n",
              "    20% {\n",
              "      border-color: transparent;\n",
              "      border-left-color: var(--fill-color);\n",
              "      border-top-color: var(--fill-color);\n",
              "    }\n",
              "    30% {\n",
              "      border-color: transparent;\n",
              "      border-left-color: var(--fill-color);\n",
              "      border-top-color: var(--fill-color);\n",
              "      border-right-color: var(--fill-color);\n",
              "    }\n",
              "    40% {\n",
              "      border-color: transparent;\n",
              "      border-right-color: var(--fill-color);\n",
              "      border-top-color: var(--fill-color);\n",
              "    }\n",
              "    60% {\n",
              "      border-color: transparent;\n",
              "      border-right-color: var(--fill-color);\n",
              "    }\n",
              "    80% {\n",
              "      border-color: transparent;\n",
              "      border-right-color: var(--fill-color);\n",
              "      border-bottom-color: var(--fill-color);\n",
              "    }\n",
              "    90% {\n",
              "      border-color: transparent;\n",
              "      border-bottom-color: var(--fill-color);\n",
              "    }\n",
              "  }\n",
              "</style>\n",
              "\n",
              "  <script>\n",
              "    async function quickchart(key) {\n",
              "      const quickchartButtonEl =\n",
              "        document.querySelector('#' + key + ' button');\n",
              "      quickchartButtonEl.disabled = true;  // To prevent multiple clicks.\n",
              "      quickchartButtonEl.classList.add('colab-df-spinner');\n",
              "      try {\n",
              "        const charts = await google.colab.kernel.invokeFunction(\n",
              "            'suggestCharts', [key], {});\n",
              "      } catch (error) {\n",
              "        console.error('Error during call to suggestCharts:', error);\n",
              "      }\n",
              "      quickchartButtonEl.classList.remove('colab-df-spinner');\n",
              "      quickchartButtonEl.classList.add('colab-df-quickchart-complete');\n",
              "    }\n",
              "    (() => {\n",
              "      let quickchartButtonEl =\n",
              "        document.querySelector('#df-4a82a551-89aa-43bb-ad2d-a9fd28667ace button');\n",
              "      quickchartButtonEl.style.display =\n",
              "        google.colab.kernel.accessAllowed ? 'block' : 'none';\n",
              "    })();\n",
              "  </script>\n",
              "</div>\n",
              "    </div>\n",
              "  </div>\n"
            ],
            "application/vnd.google.colaboratory.intrinsic+json": {
              "type": "dataframe",
              "variable_name": "df_captions",
              "summary": "{\n  \"name\": \"df_captions\",\n  \"rows\": 3801,\n  \"fields\": [\n    {\n      \"column\": \"caption\",\n      \"properties\": {\n        \"dtype\": \"string\",\n        \"num_unique_values\": 3780,\n        \"samples\": [\n          \"One of our most versatile pack series yet, Talon/Tempest allows for dynamic movement whether you're bagging peaks or bikepacking. This series is also now sustainably designed with recycled, high-tenacity nylon in new volumes, new styles, and new colors. Head to the link in our bio for more. #ospreypacks\\n\\nWhat's your favorite memory with your Talon/Tempest?\",\n          \"Planning a 2017 #ThruHike? Want to represent\\n#OspreyPacks\\n@vasquefootwear\\n@nemoequipment\\n@darntoughvermont\\n@lekiusa\\n@lifeproof\\non the #trail as a 2017 @ThruHikeSyndicate Ambassador?\\nApplications are now open for the #ThruHikeSyndicate: bit.ly/THS2017\\n(URL is case-sensitive)\\n\\ud83d\\udcf7: #PacificCrestTrail THS Alumnus @kuld, #CraterLake. #ThruHikeThursday\",\n          \"\\\"The path is not easy, the climbing is rugged and hard, but the glory at the end is worthwhile.\\u201d - Matthew Henson | \\ud83d\\udcf7 by @k_sealer | Featured pack from the Duro/Dyna Series #ospreypacks #ospreyambassador #thegooddaysaremade\"\n        ],\n        \"semantic_type\": \"\",\n        \"description\": \"\"\n      }\n    }\n  ]\n}"
            }
          },
          "metadata": {},
          "execution_count": 3
        }
      ],
      "source": [
        "captions = df['caption']\n",
        "df_captions = pd.DataFrame({'caption': captions})\n",
        "df_captions.head()"
      ]
    },
    {
      "cell_type": "code",
      "execution_count": 4,
      "metadata": {
        "colab": {
          "base_uri": "https://localhost:8080/"
        },
        "id": "G1gPADPlibws",
        "outputId": "9d499c3d-1db0-483c-b154-13e9ebafed40"
      },
      "outputs": [
        {
          "output_type": "execute_result",
          "data": {
            "text/plain": [
              "caption    13\n",
              "dtype: int64"
            ]
          },
          "metadata": {},
          "execution_count": 4
        }
      ],
      "source": [
        "df_captions.isna().sum()"
      ]
    },
    {
      "cell_type": "markdown",
      "metadata": {
        "id": "U5BozIpQqcdP"
      },
      "source": [
        "### 2. Instantiating transformers pre-trained objects"
      ]
    },
    {
      "cell_type": "code",
      "execution_count": 5,
      "metadata": {
        "id": "uq1wsZgUpEcQ"
      },
      "outputs": [],
      "source": [
        "tokenizer = AutoTokenizer.from_pretrained(base_model)"
      ]
    },
    {
      "cell_type": "code",
      "execution_count": 6,
      "metadata": {
        "id": "A9beDLSO6V6o",
        "colab": {
          "base_uri": "https://localhost:8080/",
          "height": 67,
          "referenced_widgets": [
            "3a4e37c1cf8f407ab55b4ef9445ecfc7",
            "9582741b581041ad92044980eff9132a",
            "428a498ca7cf49aab1df091d77342dfe",
            "a4b93d7c083942d4af42f534964132b6",
            "3a1961a1d0d44318baaf77e344158569",
            "cb345d4a81ad475ea8073e7f817bd8d8",
            "b52bf2c6ea124ab78213624625354a33",
            "2fd8ff316c6a4b2c82a8035b87415f1d",
            "f8599bd7bfa94f37974d7c72c1eb9780",
            "d4df4e5b666b45ce888a1c6828becb62",
            "cfe51f20a8634598a42cb7256b0d60ba"
          ]
        },
        "outputId": "ff893970-76bb-4d5c-81dd-cbda801980f5"
      },
      "outputs": [
        {
          "output_type": "display_data",
          "data": {
            "text/plain": [
              "Loading checkpoint shards:   0%|          | 0/8 [00:00<?, ?it/s]"
            ],
            "application/vnd.jupyter.widget-view+json": {
              "version_major": 2,
              "version_minor": 0,
              "model_id": "3a4e37c1cf8f407ab55b4ef9445ecfc7"
            }
          },
          "metadata": {}
        },
        {
          "output_type": "stream",
          "name": "stderr",
          "text": [
            "WARNING:root:Some parameters are on the meta device device because they were offloaded to the cpu.\n"
          ]
        }
      ],
      "source": [
        "my_pipeline = pipeline('text-generation',\n",
        "                       model=base_model,\n",
        "                       tokenizer=tokenizer,\n",
        "                       torch_dtype=torch.bfloat16,\n",
        "                       device_map='auto',\n",
        "                       max_new_tokens=100,\n",
        "                       )"
      ]
    },
    {
      "cell_type": "code",
      "source": [
        "my_llm = HuggingFacePipeline(pipeline=my_pipeline)"
      ],
      "metadata": {
        "id": "ATpQk2s-8Ppi"
      },
      "execution_count": 7,
      "outputs": []
    },
    {
      "cell_type": "markdown",
      "metadata": {
        "id": "mhAZufHtqoNy"
      },
      "source": [
        "### 3. Exploration of the random captions from existing ones to feed them to the model as examples"
      ]
    },
    {
      "cell_type": "code",
      "execution_count": 8,
      "metadata": {
        "colab": {
          "base_uri": "https://localhost:8080/",
          "height": 107
        },
        "id": "MBo93pB2FlYU",
        "outputId": "3058529b-c1bb-4898-c962-5bf7020c8b10"
      },
      "outputs": [
        {
          "output_type": "execute_result",
          "data": {
            "text/plain": [
              "'It can be hard to put your finger on what exactly gives you that Mountainfilm feeling. But something about these old festival intros comes very close.\\n\\nPasses to Mountainfilm 2022 are on sale now! Whether you are able to join us in-person or virtually, both festivals certainly promise to deliver that indescribable soul fire. Get more info at mountainfilm.org - linked in our bio.\\n\\n📷 @ben_eng_photo\\n\\n#OspreyPacks #mountainfilm\\n#mountainfilm2022 #mountainfilmintelluride #mountainfilmonline'"
            ],
            "application/vnd.google.colaboratory.intrinsic+json": {
              "type": "string"
            }
          },
          "metadata": {},
          "execution_count": 8
        }
      ],
      "source": [
        "df_captions['caption'][500]"
      ]
    },
    {
      "cell_type": "code",
      "execution_count": 9,
      "metadata": {
        "colab": {
          "base_uri": "https://localhost:8080/",
          "height": 53
        },
        "id": "th33xOsdGa7s",
        "outputId": "b5010173-d523-4f52-bbe0-7c8a079f7a4d"
      },
      "outputs": [
        {
          "output_type": "execute_result",
          "data": {
            "text/plain": [
              "'“Unbridled joy of accomplishment”. 📷 by: @digby_coffee  Featured pack from the Jet Series #ospreypacks #thegooddaysaremade'"
            ],
            "application/vnd.google.colaboratory.intrinsic+json": {
              "type": "string"
            }
          },
          "metadata": {},
          "execution_count": 9
        }
      ],
      "source": [
        "df_captions['caption'][1050]"
      ]
    },
    {
      "cell_type": "code",
      "execution_count": 10,
      "metadata": {
        "colab": {
          "base_uri": "https://localhost:8080/",
          "height": 71
        },
        "id": "FEUkA5JdIMYG",
        "outputId": "1a477c7c-cc7c-4c9f-fc35-8dacb5d7eaea"
      },
      "outputs": [
        {
          "output_type": "execute_result",
          "data": {
            "text/plain": [
              "'Stories to inspire your new year 🌞\\n\\nWhat does it take to achieve 50 consecutive months of skiing? Skier Amber Chang (@amberkchang) tells us how she chases “turns all year”—from her home in the PNW to the peaks of Chile.\\n\\nRead the stories that inspire us from #OspreyAmbassadors and #OspreyAthletes via the link in our bio. | #OspreyPacks'"
            ],
            "application/vnd.google.colaboratory.intrinsic+json": {
              "type": "string"
            }
          },
          "metadata": {},
          "execution_count": 10
        }
      ],
      "source": [
        "df_captions['caption'][333]"
      ]
    },
    {
      "cell_type": "code",
      "execution_count": 11,
      "metadata": {
        "colab": {
          "base_uri": "https://localhost:8080/",
          "height": 107
        },
        "id": "M39es6coWM2e",
        "outputId": "f9b2907e-e05f-4a54-c4a5-a66715519251"
      },
      "outputs": [
        {
          "output_type": "execute_result",
          "data": {
            "text/plain": [
              "'Want to become an Osprey Ambassador? \\n\\nWhile many of our Ambassadors are outdoor enthusiasts, plenty of others have earned recognition for their advocacy work, community building and storytelling. All share a passion for the outdoors. \\n\\nThe Osprey Ambassador application is now open for submissions. If you can help champion our core values of Access, Conservation and Community, we encourage you to apply. \\n\\nLearn more and apply via the link in our bio. \\n\\n#OspreyPacks #OspreyAmbassador'"
            ],
            "application/vnd.google.colaboratory.intrinsic+json": {
              "type": "string"
            }
          },
          "metadata": {},
          "execution_count": 11
        }
      ],
      "source": [
        "df_captions['caption'][1]"
      ]
    },
    {
      "cell_type": "code",
      "source": [
        "df_captions['caption'][310]"
      ],
      "metadata": {
        "colab": {
          "base_uri": "https://localhost:8080/",
          "height": 71
        },
        "id": "aaHo8vVOgnPC",
        "outputId": "2b5bac16-846f-4712-9381-440eab416de2"
      },
      "execution_count": 12,
      "outputs": [
        {
          "output_type": "execute_result",
          "data": {
            "text/plain": [
              "'Not sure what ski pack to pick? Let #OspreyAmbassador @griff_da_pinto walk you through his favorite features of the Sopris Pro 30 and Kresta 20. | 🎥  @griff_da_pinto | Featured packs from the Soelden/Sopris Pro & Kamber/Kresta Series | #OspreyPacks'"
            ],
            "application/vnd.google.colaboratory.intrinsic+json": {
              "type": "string"
            }
          },
          "metadata": {},
          "execution_count": 12
        }
      ]
    },
    {
      "cell_type": "markdown",
      "metadata": {
        "id": "7lbW14h1q6LP"
      },
      "source": [
        "#### Description of the model's behaviour"
      ]
    },
    {
      "cell_type": "code",
      "execution_count": 14,
      "metadata": {
        "id": "h94q1ljFXQos"
      },
      "outputs": [],
      "source": [
        "context = '''\n",
        "You are an AI tasked with creating engaging Instagram post captions for Osprey Packs.\n",
        "Your audience loves comfortable travel and outdoor adventures.\n",
        "Highlight the product features creatively to appeal to this audience.\n",
        "Below are examples of input queries and their corresponding answers you have generated:\n",
        "'''"
      ]
    },
    {
      "cell_type": "markdown",
      "metadata": {
        "id": "tu8rNyveq_UR"
      },
      "source": [
        "#### Examples of queries and answers"
      ]
    },
    {
      "cell_type": "code",
      "execution_count": 21,
      "metadata": {
        "id": "pOwKKDMqr225"
      },
      "outputs": [],
      "source": [
        "examples = [\n",
        "    {\n",
        "        'query': \"Generate an invitation post about Mountainfilm 2022 festival directing to the website link.\",\n",
        "        'answer': '''\n",
        "It can be hard to put your finger on what exactly gives\n",
        "you that Mountainfilm feeling. But something about these old festival intros comes very close.\n",
        "\n",
        "Passes to Mountainfilm 2022 are on sale now! Whether you are able to join us\n",
        "in-person or virtually, both festivals certainly promise to deliver that indescribable soul fire.\n",
        "Get more info at mountainfilm.org - linked in our bio.\n",
        "\n",
        "📷 @ben_eng_photo\n",
        "\n",
        "#OspreyPacks #mountainfilm\n",
        "#mountainfilm2022 #mountainfilmintelluride #mountainfilmonline ///\n",
        "'''\n",
        "    },\n",
        "    {\n",
        "        'query': 'Generate a post about an interview with a skier named Amber Chang.',\n",
        "        'answer': '''\n",
        "Stories to inspire your new year 🌞\n",
        "\n",
        "What does it take to achieve 50 consecutive months of skiing? Skier Amber Chang (@amberkchang) tells us how she chases “turns all year”—from her home in the PNW to the peaks of Chile.\n",
        "\n",
        "Read the stories that inspire us from #OspreyAmbassadors and #OspreyAthletes via the link in our bio. | #OspreyPacks ///\n",
        "'''\n",
        "    },\n",
        "    {\n",
        "        'query': \"Write a post about the pack from 'Jet' Series with some quotation.\",\n",
        "        'answer': '''\n",
        "“Unbridled joy of accomplishment”. 📷 by: @digby_coffee\n",
        "Featured pack from the Jet Series #ospreypacks #thegooddaysaremade ///\n",
        "'''\n",
        "    },\n",
        "    {\n",
        "        'query': \"Write a caption promoting the inspiring stories from a Skier Amber Chang.\",\n",
        "        'answer': '''\n",
        "Stories to inspire your new year 🌞\n",
        "\n",
        "What does it take to achieve 50 consecutive months of skiing? Skier Amber Chang (@amberkchang)\n",
        "tells us how she chases “turns all year”—from her home in the PNW to the peaks of Chile.\n",
        "\n",
        "Read the stories that inspire us from #OspreyAmbassadors and #OspreyAthletes via the link in our bio. | #OspreyPacks ///\n",
        "'''\n",
        "    },\n",
        "    {\n",
        "        'query': \"Generate a post about some advise on which backpack model to choose to go skiing.\",\n",
        "        'answer': '''\n",
        "Not sure what ski pack to pick? Let #OspreyAmbassador @griff_da_pinto walk\n",
        "you through his favorite features of the Sopris Pro 30 and Kresta 20. | 🎥  @griff_da_pinto\n",
        "| Featured packs from the Soelden/Sopris Pro & Kamber/Kresta Series | #OspreyPacks ///\n",
        "'''\n",
        "    }\n",
        "]"
      ]
    },
    {
      "cell_type": "code",
      "source": [
        "example_prompt = PromptTemplate(input_variables=['query', 'answer'],\n",
        "                                template='''\n",
        "Query: {query}\n",
        "Answer: {answer}\n",
        "'''\n",
        ")"
      ],
      "metadata": {
        "id": "Lwyv7Uzo8e_i"
      },
      "execution_count": 22,
      "outputs": []
    },
    {
      "cell_type": "code",
      "source": [
        "my_few_shot_prompt = FewShotPromptTemplate(examples=examples,\n",
        "                                           example_prompt=example_prompt,\n",
        "                                           prefix=context,\n",
        "                                           suffix='Query: {query}\\nAnswer:',\n",
        "                                           input_variables=['query'],\n",
        "                                           example_separator='\\n')"
      ],
      "metadata": {
        "id": "UbgL2LGl-Noi"
      },
      "execution_count": 23,
      "outputs": []
    },
    {
      "cell_type": "code",
      "source": [
        "my_llm_chain = my_few_shot_prompt | my_llm"
      ],
      "metadata": {
        "id": "CDFofZcyMrus"
      },
      "execution_count": 24,
      "outputs": []
    },
    {
      "cell_type": "code",
      "source": [
        "def generate_response(question: str, end_token='///'):\n",
        "  '''\n",
        "  Generates response for a specific question and cut it up to the end token.\n",
        "  Params:\n",
        "    Args:\n",
        "      question: prompt we want to generate the response for.\n",
        "    Kwargs:\n",
        "      end_token: a string which must be in the end of the generated response.\n",
        "  '''\n",
        "  response = my_llm_chain.invoke(question)\n",
        "  answer_start = response.rfind('Answer: ') + len('Answer: ')\n",
        "  end_pos = response.find(end_token, answer_start)\n",
        "  if end_pos != -1:\n",
        "    final_response = response[answer_start:end_pos].strip()\n",
        "  else:\n",
        "    final_response = response[answer_start:].strip()\n",
        "  return final_response"
      ],
      "metadata": {
        "id": "uounB37ytNMr"
      },
      "execution_count": 25,
      "outputs": []
    },
    {
      "cell_type": "code",
      "source": [
        "question_1 = '''\n",
        "Create a post about a new perfect backpack model for\n",
        "mountaineers – called \"Adventure\"\n",
        "with has a capacity of 25 litres and costs 200$,\n",
        "which is a perfect match for passionate travellers.\n",
        "'''\n",
        "print(generate_response(question_1))"
      ],
      "metadata": {
        "id": "vHFoFrMFvtxz",
        "colab": {
          "base_uri": "https://localhost:8080/"
        },
        "outputId": "84256692-5994-4e4d-adee-902650ab0d07"
      },
      "execution_count": 26,
      "outputs": [
        {
          "output_type": "stream",
          "name": "stdout",
          "text": [
            "Introducing the Adventure 25L - the ultimate backpack for mountaineers.\n",
            "\n",
            "With a capacity of 25L and a price tag of $200, this pack is the perfect match for passionate travellers. Featuring a sleek design and innovative features, the Adventure 25L is the perfect companion for your next adventure.\n",
            "\n",
            "Shop now via the link in our bio | #OspreyPacks\n"
          ]
        }
      ]
    },
    {
      "cell_type": "code",
      "source": [
        "question_2 = '''\n",
        "Create a post about importance of Earth Hour, with some quote.\n",
        "'''\n",
        "print(generate_response(question_2))"
      ],
      "metadata": {
        "colab": {
          "base_uri": "https://localhost:8080/"
        },
        "id": "qoTskKwD4JNB",
        "outputId": "34cc9e4b-4697-4847-ca5c-201dce68c2d9"
      },
      "execution_count": 28,
      "outputs": [
        {
          "output_type": "stream",
          "name": "stdout",
          "text": [
            "\"The Earth is what we all have in common.\" - Wendell Berry\n",
            "\n",
            "Today, we join the global community in celebrating Earth Hour. Let's take a moment to reflect on our collective responsibility to protect our planet.\n",
            "\n",
            "📷 by: @julian_bialowas\n",
            "\n",
            "#EarthHour #OspreyPacks #ProtectOurPlanet\n"
          ]
        }
      ]
    },
    {
      "cell_type": "code",
      "source": [
        "question_3 = '''\n",
        "Generate a catchy caption about a new backpack model for kids called My First Mountain, in pink or green colours.\n",
        "'''\n",
        "print(generate_response(question_3))"
      ],
      "metadata": {
        "colab": {
          "base_uri": "https://localhost:8080/"
        },
        "id": "tJZ-YR3hEBaF",
        "outputId": "07b6d333-07d4-48d0-dd11-2d3c4ee1aa40"
      },
      "execution_count": 30,
      "outputs": [
        {
          "output_type": "stream",
          "name": "stdout",
          "text": [
            "🚨 NEW ARRIVAL ALERT 🚨\n",
            "\n",
            "Our littlest adventurers now have a pack of their own! 🌟\n",
            "\n",
            "Introducing the My First Mountain, available in pink or green.\n",
            "\n",
            "This pint-sized pack is designed to help your little one learn the ropes of hiking and exploring.\n",
            "\n",
            "Shop now via the link in our bio! | #OspreyPacks\n"
          ]
        }
      ]
    },
    {
      "cell_type": "markdown",
      "metadata": {
        "id": "apt5ZDyHrO6C"
      },
      "source": [
        "### 5. Implementation of a simple UI"
      ]
    },
    {
      "cell_type": "code",
      "source": [],
      "metadata": {
        "id": "9HFPpYlwtJbt"
      },
      "execution_count": null,
      "outputs": []
    }
  ],
  "metadata": {
    "colab": {
      "provenance": [],
      "gpuType": "T4"
    },
    "kernelspec": {
      "display_name": "Python 3",
      "name": "python3"
    },
    "language_info": {
      "name": "python"
    },
    "widgets": {
      "application/vnd.jupyter.widget-state+json": {
        "3a4e37c1cf8f407ab55b4ef9445ecfc7": {
          "model_module": "@jupyter-widgets/controls",
          "model_name": "HBoxModel",
          "model_module_version": "1.5.0",
          "state": {
            "_dom_classes": [],
            "_model_module": "@jupyter-widgets/controls",
            "_model_module_version": "1.5.0",
            "_model_name": "HBoxModel",
            "_view_count": null,
            "_view_module": "@jupyter-widgets/controls",
            "_view_module_version": "1.5.0",
            "_view_name": "HBoxView",
            "box_style": "",
            "children": [
              "IPY_MODEL_9582741b581041ad92044980eff9132a",
              "IPY_MODEL_428a498ca7cf49aab1df091d77342dfe",
              "IPY_MODEL_a4b93d7c083942d4af42f534964132b6"
            ],
            "layout": "IPY_MODEL_3a1961a1d0d44318baaf77e344158569"
          }
        },
        "9582741b581041ad92044980eff9132a": {
          "model_module": "@jupyter-widgets/controls",
          "model_name": "HTMLModel",
          "model_module_version": "1.5.0",
          "state": {
            "_dom_classes": [],
            "_model_module": "@jupyter-widgets/controls",
            "_model_module_version": "1.5.0",
            "_model_name": "HTMLModel",
            "_view_count": null,
            "_view_module": "@jupyter-widgets/controls",
            "_view_module_version": "1.5.0",
            "_view_name": "HTMLView",
            "description": "",
            "description_tooltip": null,
            "layout": "IPY_MODEL_cb345d4a81ad475ea8073e7f817bd8d8",
            "placeholder": "​",
            "style": "IPY_MODEL_b52bf2c6ea124ab78213624625354a33",
            "value": "Loading checkpoint shards: 100%"
          }
        },
        "428a498ca7cf49aab1df091d77342dfe": {
          "model_module": "@jupyter-widgets/controls",
          "model_name": "FloatProgressModel",
          "model_module_version": "1.5.0",
          "state": {
            "_dom_classes": [],
            "_model_module": "@jupyter-widgets/controls",
            "_model_module_version": "1.5.0",
            "_model_name": "FloatProgressModel",
            "_view_count": null,
            "_view_module": "@jupyter-widgets/controls",
            "_view_module_version": "1.5.0",
            "_view_name": "ProgressView",
            "bar_style": "success",
            "description": "",
            "description_tooltip": null,
            "layout": "IPY_MODEL_2fd8ff316c6a4b2c82a8035b87415f1d",
            "max": 8,
            "min": 0,
            "orientation": "horizontal",
            "style": "IPY_MODEL_f8599bd7bfa94f37974d7c72c1eb9780",
            "value": 8
          }
        },
        "a4b93d7c083942d4af42f534964132b6": {
          "model_module": "@jupyter-widgets/controls",
          "model_name": "HTMLModel",
          "model_module_version": "1.5.0",
          "state": {
            "_dom_classes": [],
            "_model_module": "@jupyter-widgets/controls",
            "_model_module_version": "1.5.0",
            "_model_name": "HTMLModel",
            "_view_count": null,
            "_view_module": "@jupyter-widgets/controls",
            "_view_module_version": "1.5.0",
            "_view_name": "HTMLView",
            "description": "",
            "description_tooltip": null,
            "layout": "IPY_MODEL_d4df4e5b666b45ce888a1c6828becb62",
            "placeholder": "​",
            "style": "IPY_MODEL_cfe51f20a8634598a42cb7256b0d60ba",
            "value": " 8/8 [00:54&lt;00:00,  5.01s/it]"
          }
        },
        "3a1961a1d0d44318baaf77e344158569": {
          "model_module": "@jupyter-widgets/base",
          "model_name": "LayoutModel",
          "model_module_version": "1.2.0",
          "state": {
            "_model_module": "@jupyter-widgets/base",
            "_model_module_version": "1.2.0",
            "_model_name": "LayoutModel",
            "_view_count": null,
            "_view_module": "@jupyter-widgets/base",
            "_view_module_version": "1.2.0",
            "_view_name": "LayoutView",
            "align_content": null,
            "align_items": null,
            "align_self": null,
            "border": null,
            "bottom": null,
            "display": null,
            "flex": null,
            "flex_flow": null,
            "grid_area": null,
            "grid_auto_columns": null,
            "grid_auto_flow": null,
            "grid_auto_rows": null,
            "grid_column": null,
            "grid_gap": null,
            "grid_row": null,
            "grid_template_areas": null,
            "grid_template_columns": null,
            "grid_template_rows": null,
            "height": null,
            "justify_content": null,
            "justify_items": null,
            "left": null,
            "margin": null,
            "max_height": null,
            "max_width": null,
            "min_height": null,
            "min_width": null,
            "object_fit": null,
            "object_position": null,
            "order": null,
            "overflow": null,
            "overflow_x": null,
            "overflow_y": null,
            "padding": null,
            "right": null,
            "top": null,
            "visibility": null,
            "width": null
          }
        },
        "cb345d4a81ad475ea8073e7f817bd8d8": {
          "model_module": "@jupyter-widgets/base",
          "model_name": "LayoutModel",
          "model_module_version": "1.2.0",
          "state": {
            "_model_module": "@jupyter-widgets/base",
            "_model_module_version": "1.2.0",
            "_model_name": "LayoutModel",
            "_view_count": null,
            "_view_module": "@jupyter-widgets/base",
            "_view_module_version": "1.2.0",
            "_view_name": "LayoutView",
            "align_content": null,
            "align_items": null,
            "align_self": null,
            "border": null,
            "bottom": null,
            "display": null,
            "flex": null,
            "flex_flow": null,
            "grid_area": null,
            "grid_auto_columns": null,
            "grid_auto_flow": null,
            "grid_auto_rows": null,
            "grid_column": null,
            "grid_gap": null,
            "grid_row": null,
            "grid_template_areas": null,
            "grid_template_columns": null,
            "grid_template_rows": null,
            "height": null,
            "justify_content": null,
            "justify_items": null,
            "left": null,
            "margin": null,
            "max_height": null,
            "max_width": null,
            "min_height": null,
            "min_width": null,
            "object_fit": null,
            "object_position": null,
            "order": null,
            "overflow": null,
            "overflow_x": null,
            "overflow_y": null,
            "padding": null,
            "right": null,
            "top": null,
            "visibility": null,
            "width": null
          }
        },
        "b52bf2c6ea124ab78213624625354a33": {
          "model_module": "@jupyter-widgets/controls",
          "model_name": "DescriptionStyleModel",
          "model_module_version": "1.5.0",
          "state": {
            "_model_module": "@jupyter-widgets/controls",
            "_model_module_version": "1.5.0",
            "_model_name": "DescriptionStyleModel",
            "_view_count": null,
            "_view_module": "@jupyter-widgets/base",
            "_view_module_version": "1.2.0",
            "_view_name": "StyleView",
            "description_width": ""
          }
        },
        "2fd8ff316c6a4b2c82a8035b87415f1d": {
          "model_module": "@jupyter-widgets/base",
          "model_name": "LayoutModel",
          "model_module_version": "1.2.0",
          "state": {
            "_model_module": "@jupyter-widgets/base",
            "_model_module_version": "1.2.0",
            "_model_name": "LayoutModel",
            "_view_count": null,
            "_view_module": "@jupyter-widgets/base",
            "_view_module_version": "1.2.0",
            "_view_name": "LayoutView",
            "align_content": null,
            "align_items": null,
            "align_self": null,
            "border": null,
            "bottom": null,
            "display": null,
            "flex": null,
            "flex_flow": null,
            "grid_area": null,
            "grid_auto_columns": null,
            "grid_auto_flow": null,
            "grid_auto_rows": null,
            "grid_column": null,
            "grid_gap": null,
            "grid_row": null,
            "grid_template_areas": null,
            "grid_template_columns": null,
            "grid_template_rows": null,
            "height": null,
            "justify_content": null,
            "justify_items": null,
            "left": null,
            "margin": null,
            "max_height": null,
            "max_width": null,
            "min_height": null,
            "min_width": null,
            "object_fit": null,
            "object_position": null,
            "order": null,
            "overflow": null,
            "overflow_x": null,
            "overflow_y": null,
            "padding": null,
            "right": null,
            "top": null,
            "visibility": null,
            "width": null
          }
        },
        "f8599bd7bfa94f37974d7c72c1eb9780": {
          "model_module": "@jupyter-widgets/controls",
          "model_name": "ProgressStyleModel",
          "model_module_version": "1.5.0",
          "state": {
            "_model_module": "@jupyter-widgets/controls",
            "_model_module_version": "1.5.0",
            "_model_name": "ProgressStyleModel",
            "_view_count": null,
            "_view_module": "@jupyter-widgets/base",
            "_view_module_version": "1.2.0",
            "_view_name": "StyleView",
            "bar_color": null,
            "description_width": ""
          }
        },
        "d4df4e5b666b45ce888a1c6828becb62": {
          "model_module": "@jupyter-widgets/base",
          "model_name": "LayoutModel",
          "model_module_version": "1.2.0",
          "state": {
            "_model_module": "@jupyter-widgets/base",
            "_model_module_version": "1.2.0",
            "_model_name": "LayoutModel",
            "_view_count": null,
            "_view_module": "@jupyter-widgets/base",
            "_view_module_version": "1.2.0",
            "_view_name": "LayoutView",
            "align_content": null,
            "align_items": null,
            "align_self": null,
            "border": null,
            "bottom": null,
            "display": null,
            "flex": null,
            "flex_flow": null,
            "grid_area": null,
            "grid_auto_columns": null,
            "grid_auto_flow": null,
            "grid_auto_rows": null,
            "grid_column": null,
            "grid_gap": null,
            "grid_row": null,
            "grid_template_areas": null,
            "grid_template_columns": null,
            "grid_template_rows": null,
            "height": null,
            "justify_content": null,
            "justify_items": null,
            "left": null,
            "margin": null,
            "max_height": null,
            "max_width": null,
            "min_height": null,
            "min_width": null,
            "object_fit": null,
            "object_position": null,
            "order": null,
            "overflow": null,
            "overflow_x": null,
            "overflow_y": null,
            "padding": null,
            "right": null,
            "top": null,
            "visibility": null,
            "width": null
          }
        },
        "cfe51f20a8634598a42cb7256b0d60ba": {
          "model_module": "@jupyter-widgets/controls",
          "model_name": "DescriptionStyleModel",
          "model_module_version": "1.5.0",
          "state": {
            "_model_module": "@jupyter-widgets/controls",
            "_model_module_version": "1.5.0",
            "_model_name": "DescriptionStyleModel",
            "_view_count": null,
            "_view_module": "@jupyter-widgets/base",
            "_view_module_version": "1.2.0",
            "_view_name": "StyleView",
            "description_width": ""
          }
        }
      }
    },
    "accelerator": "GPU"
  },
  "nbformat": 4,
  "nbformat_minor": 0
}