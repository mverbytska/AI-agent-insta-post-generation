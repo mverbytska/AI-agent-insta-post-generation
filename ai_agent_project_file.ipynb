{
  "nbformat": 4,
  "nbformat_minor": 0,
  "metadata": {
    "colab": {
      "provenance": [],
      "gpuType": "T4"
    },
    "kernelspec": {
      "name": "python3",
      "display_name": "Python 3"
    },
    "language_info": {
      "name": "python"
    },
    "widgets": {
      "application/vnd.jupyter.widget-state+json": {
        "be20f077b9694e0aa357df85034949e1": {
          "model_module": "@jupyter-widgets/controls",
          "model_name": "HBoxModel",
          "model_module_version": "1.5.0",
          "state": {
            "_dom_classes": [],
            "_model_module": "@jupyter-widgets/controls",
            "_model_module_version": "1.5.0",
            "_model_name": "HBoxModel",
            "_view_count": null,
            "_view_module": "@jupyter-widgets/controls",
            "_view_module_version": "1.5.0",
            "_view_name": "HBoxView",
            "box_style": "",
            "children": [
              "IPY_MODEL_00254401f59344b2869454dea831ef0f",
              "IPY_MODEL_b067b784df8c4af5a21d96a87189dca3",
              "IPY_MODEL_cf9226122ba443399945c2f3df915dff"
            ],
            "layout": "IPY_MODEL_6567a28e24d045efaf17b4df9384e0b2"
          }
        },
        "00254401f59344b2869454dea831ef0f": {
          "model_module": "@jupyter-widgets/controls",
          "model_name": "HTMLModel",
          "model_module_version": "1.5.0",
          "state": {
            "_dom_classes": [],
            "_model_module": "@jupyter-widgets/controls",
            "_model_module_version": "1.5.0",
            "_model_name": "HTMLModel",
            "_view_count": null,
            "_view_module": "@jupyter-widgets/controls",
            "_view_module_version": "1.5.0",
            "_view_name": "HTMLView",
            "description": "",
            "description_tooltip": null,
            "layout": "IPY_MODEL_2905403cb27348d6a37c1d71aa0066c7",
            "placeholder": "​",
            "style": "IPY_MODEL_5fcbd6377b144602aa30b357fa6a6d00",
            "value": "Loading checkpoint shards: 100%"
          }
        },
        "b067b784df8c4af5a21d96a87189dca3": {
          "model_module": "@jupyter-widgets/controls",
          "model_name": "FloatProgressModel",
          "model_module_version": "1.5.0",
          "state": {
            "_dom_classes": [],
            "_model_module": "@jupyter-widgets/controls",
            "_model_module_version": "1.5.0",
            "_model_name": "FloatProgressModel",
            "_view_count": null,
            "_view_module": "@jupyter-widgets/controls",
            "_view_module_version": "1.5.0",
            "_view_name": "ProgressView",
            "bar_style": "success",
            "description": "",
            "description_tooltip": null,
            "layout": "IPY_MODEL_af0d8fed92564441a5aa9a857e705ac0",
            "max": 3,
            "min": 0,
            "orientation": "horizontal",
            "style": "IPY_MODEL_5e63e75a2b574db5b7aac8877c2ac7c5",
            "value": 3
          }
        },
        "cf9226122ba443399945c2f3df915dff": {
          "model_module": "@jupyter-widgets/controls",
          "model_name": "HTMLModel",
          "model_module_version": "1.5.0",
          "state": {
            "_dom_classes": [],
            "_model_module": "@jupyter-widgets/controls",
            "_model_module_version": "1.5.0",
            "_model_name": "HTMLModel",
            "_view_count": null,
            "_view_module": "@jupyter-widgets/controls",
            "_view_module_version": "1.5.0",
            "_view_name": "HTMLView",
            "description": "",
            "description_tooltip": null,
            "layout": "IPY_MODEL_7d26c4ca2910454da1b1ac2520f3acec",
            "placeholder": "​",
            "style": "IPY_MODEL_1d8942ae62d149079ff696a1376dab03",
            "value": " 3/3 [01:04&lt;00:00, 21.46s/it]"
          }
        },
        "6567a28e24d045efaf17b4df9384e0b2": {
          "model_module": "@jupyter-widgets/base",
          "model_name": "LayoutModel",
          "model_module_version": "1.2.0",
          "state": {
            "_model_module": "@jupyter-widgets/base",
            "_model_module_version": "1.2.0",
            "_model_name": "LayoutModel",
            "_view_count": null,
            "_view_module": "@jupyter-widgets/base",
            "_view_module_version": "1.2.0",
            "_view_name": "LayoutView",
            "align_content": null,
            "align_items": null,
            "align_self": null,
            "border": null,
            "bottom": null,
            "display": null,
            "flex": null,
            "flex_flow": null,
            "grid_area": null,
            "grid_auto_columns": null,
            "grid_auto_flow": null,
            "grid_auto_rows": null,
            "grid_column": null,
            "grid_gap": null,
            "grid_row": null,
            "grid_template_areas": null,
            "grid_template_columns": null,
            "grid_template_rows": null,
            "height": null,
            "justify_content": null,
            "justify_items": null,
            "left": null,
            "margin": null,
            "max_height": null,
            "max_width": null,
            "min_height": null,
            "min_width": null,
            "object_fit": null,
            "object_position": null,
            "order": null,
            "overflow": null,
            "overflow_x": null,
            "overflow_y": null,
            "padding": null,
            "right": null,
            "top": null,
            "visibility": null,
            "width": null
          }
        },
        "2905403cb27348d6a37c1d71aa0066c7": {
          "model_module": "@jupyter-widgets/base",
          "model_name": "LayoutModel",
          "model_module_version": "1.2.0",
          "state": {
            "_model_module": "@jupyter-widgets/base",
            "_model_module_version": "1.2.0",
            "_model_name": "LayoutModel",
            "_view_count": null,
            "_view_module": "@jupyter-widgets/base",
            "_view_module_version": "1.2.0",
            "_view_name": "LayoutView",
            "align_content": null,
            "align_items": null,
            "align_self": null,
            "border": null,
            "bottom": null,
            "display": null,
            "flex": null,
            "flex_flow": null,
            "grid_area": null,
            "grid_auto_columns": null,
            "grid_auto_flow": null,
            "grid_auto_rows": null,
            "grid_column": null,
            "grid_gap": null,
            "grid_row": null,
            "grid_template_areas": null,
            "grid_template_columns": null,
            "grid_template_rows": null,
            "height": null,
            "justify_content": null,
            "justify_items": null,
            "left": null,
            "margin": null,
            "max_height": null,
            "max_width": null,
            "min_height": null,
            "min_width": null,
            "object_fit": null,
            "object_position": null,
            "order": null,
            "overflow": null,
            "overflow_x": null,
            "overflow_y": null,
            "padding": null,
            "right": null,
            "top": null,
            "visibility": null,
            "width": null
          }
        },
        "5fcbd6377b144602aa30b357fa6a6d00": {
          "model_module": "@jupyter-widgets/controls",
          "model_name": "DescriptionStyleModel",
          "model_module_version": "1.5.0",
          "state": {
            "_model_module": "@jupyter-widgets/controls",
            "_model_module_version": "1.5.0",
            "_model_name": "DescriptionStyleModel",
            "_view_count": null,
            "_view_module": "@jupyter-widgets/base",
            "_view_module_version": "1.2.0",
            "_view_name": "StyleView",
            "description_width": ""
          }
        },
        "af0d8fed92564441a5aa9a857e705ac0": {
          "model_module": "@jupyter-widgets/base",
          "model_name": "LayoutModel",
          "model_module_version": "1.2.0",
          "state": {
            "_model_module": "@jupyter-widgets/base",
            "_model_module_version": "1.2.0",
            "_model_name": "LayoutModel",
            "_view_count": null,
            "_view_module": "@jupyter-widgets/base",
            "_view_module_version": "1.2.0",
            "_view_name": "LayoutView",
            "align_content": null,
            "align_items": null,
            "align_self": null,
            "border": null,
            "bottom": null,
            "display": null,
            "flex": null,
            "flex_flow": null,
            "grid_area": null,
            "grid_auto_columns": null,
            "grid_auto_flow": null,
            "grid_auto_rows": null,
            "grid_column": null,
            "grid_gap": null,
            "grid_row": null,
            "grid_template_areas": null,
            "grid_template_columns": null,
            "grid_template_rows": null,
            "height": null,
            "justify_content": null,
            "justify_items": null,
            "left": null,
            "margin": null,
            "max_height": null,
            "max_width": null,
            "min_height": null,
            "min_width": null,
            "object_fit": null,
            "object_position": null,
            "order": null,
            "overflow": null,
            "overflow_x": null,
            "overflow_y": null,
            "padding": null,
            "right": null,
            "top": null,
            "visibility": null,
            "width": null
          }
        },
        "5e63e75a2b574db5b7aac8877c2ac7c5": {
          "model_module": "@jupyter-widgets/controls",
          "model_name": "ProgressStyleModel",
          "model_module_version": "1.5.0",
          "state": {
            "_model_module": "@jupyter-widgets/controls",
            "_model_module_version": "1.5.0",
            "_model_name": "ProgressStyleModel",
            "_view_count": null,
            "_view_module": "@jupyter-widgets/base",
            "_view_module_version": "1.2.0",
            "_view_name": "StyleView",
            "bar_color": null,
            "description_width": ""
          }
        },
        "7d26c4ca2910454da1b1ac2520f3acec": {
          "model_module": "@jupyter-widgets/base",
          "model_name": "LayoutModel",
          "model_module_version": "1.2.0",
          "state": {
            "_model_module": "@jupyter-widgets/base",
            "_model_module_version": "1.2.0",
            "_model_name": "LayoutModel",
            "_view_count": null,
            "_view_module": "@jupyter-widgets/base",
            "_view_module_version": "1.2.0",
            "_view_name": "LayoutView",
            "align_content": null,
            "align_items": null,
            "align_self": null,
            "border": null,
            "bottom": null,
            "display": null,
            "flex": null,
            "flex_flow": null,
            "grid_area": null,
            "grid_auto_columns": null,
            "grid_auto_flow": null,
            "grid_auto_rows": null,
            "grid_column": null,
            "grid_gap": null,
            "grid_row": null,
            "grid_template_areas": null,
            "grid_template_columns": null,
            "grid_template_rows": null,
            "height": null,
            "justify_content": null,
            "justify_items": null,
            "left": null,
            "margin": null,
            "max_height": null,
            "max_width": null,
            "min_height": null,
            "min_width": null,
            "object_fit": null,
            "object_position": null,
            "order": null,
            "overflow": null,
            "overflow_x": null,
            "overflow_y": null,
            "padding": null,
            "right": null,
            "top": null,
            "visibility": null,
            "width": null
          }
        },
        "1d8942ae62d149079ff696a1376dab03": {
          "model_module": "@jupyter-widgets/controls",
          "model_name": "DescriptionStyleModel",
          "model_module_version": "1.5.0",
          "state": {
            "_model_module": "@jupyter-widgets/controls",
            "_model_module_version": "1.5.0",
            "_model_name": "DescriptionStyleModel",
            "_view_count": null,
            "_view_module": "@jupyter-widgets/base",
            "_view_module_version": "1.2.0",
            "_view_name": "StyleView",
            "description_width": ""
          }
        }
      }
    },
    "accelerator": "GPU"
  },
  "cells": [
    {
      "cell_type": "markdown",
      "source": [
        "# AI-agent for Instagram posts generating in a tone-of-voice of a specified page\n",
        "### Within the LITSLINK test task\n",
        "## Task description:\n",
        "You need to create an agent that accepts instructions like\n",
        "\"create a new post about a 25-liter Adventure backpack for $200,\n",
        "which is great for mountaineers\" or \"write me a post about the giveaway of 3 bags from our new collection\" and generates an Instagram post in the style of\n",
        "this page: https://www.instagram.com/ospreypacks/\n",
        "\n",
        "Requirements: use open-source models from HF hub, for functionality testing - create a Gradio UI"
      ],
      "metadata": {
        "id": "PTJOv6V9r8Ya"
      }
    },
    {
      "cell_type": "markdown",
      "source": [
        "### 0. Modules importing"
      ],
      "metadata": {
        "id": "Ni7Meosaw0rM"
      }
    },
    {
      "cell_type": "code",
      "source": [
        "import pandas as pd\n",
        "from transformers import (AutoTokenizer,\n",
        "                          AutoModelForCausalLM,\n",
        "                          BitsAndBytesConfig,\n",
        "                          pipeline)\n",
        "import torch\n",
        "import gradio as gr\n",
        "from huggingface_hub import (\n",
        "    create_repo,\n",
        "    get_full_repo_name,\n",
        "    upload_file,\n",
        ")\n",
        "base_model = 'mistralai/Mistral-7B-Instruct-v0.2'\n",
        "#instagram_dataset = 'drive/MyDrive/datasets/instagram_data.csv'\n",
        "instagram_dataset = 'instagram_data.csv'"
      ],
      "metadata": {
        "id": "ZhsPy1whDMPu"
      },
      "execution_count": 42,
      "outputs": []
    },
    {
      "cell_type": "markdown",
      "source": [
        "### 1. Captions data exploration"
      ],
      "metadata": {
        "id": "NdV2Zlcaw8jG"
      }
    },
    {
      "cell_type": "code",
      "source": [
        "df = pd.read_csv(instagram_dataset, low_memory=False)"
      ],
      "metadata": {
        "id": "0zIHAue3mmbQ"
      },
      "execution_count": 2,
      "outputs": []
    },
    {
      "cell_type": "code",
      "source": [
        "captions = df['caption']\n",
        "df_captions = pd.DataFrame({'caption': captions})\n",
        "df_captions.head()"
      ],
      "metadata": {
        "colab": {
          "base_uri": "https://localhost:8080/",
          "height": 206
        },
        "id": "NqtgvtRthv_W",
        "outputId": "a87b6375-f02f-40ba-add7-ccec488e1097"
      },
      "execution_count": 3,
      "outputs": [
        {
          "output_type": "execute_result",
          "data": {
            "text/plain": [
              "                                             caption\n",
              "0  Cheers to 50 years - to celebrate, we’re highl...\n",
              "1  Want to become an Osprey Ambassador? \\n\\nWhile...\n",
              "2  The light at the end of April's showers 🌼🌷 Whe...\n",
              "3  A half-century later and we’re just as passion...\n",
              "4  From ocean-bound PET bottles, to sustainable* ..."
            ],
            "text/html": [
              "\n",
              "  <div id=\"df-bf0af143-93e8-4be2-8226-4bf17c491e3e\" class=\"colab-df-container\">\n",
              "    <div>\n",
              "<style scoped>\n",
              "    .dataframe tbody tr th:only-of-type {\n",
              "        vertical-align: middle;\n",
              "    }\n",
              "\n",
              "    .dataframe tbody tr th {\n",
              "        vertical-align: top;\n",
              "    }\n",
              "\n",
              "    .dataframe thead th {\n",
              "        text-align: right;\n",
              "    }\n",
              "</style>\n",
              "<table border=\"1\" class=\"dataframe\">\n",
              "  <thead>\n",
              "    <tr style=\"text-align: right;\">\n",
              "      <th></th>\n",
              "      <th>caption</th>\n",
              "    </tr>\n",
              "  </thead>\n",
              "  <tbody>\n",
              "    <tr>\n",
              "      <th>0</th>\n",
              "      <td>Cheers to 50 years - to celebrate, we’re highl...</td>\n",
              "    </tr>\n",
              "    <tr>\n",
              "      <th>1</th>\n",
              "      <td>Want to become an Osprey Ambassador? \\n\\nWhile...</td>\n",
              "    </tr>\n",
              "    <tr>\n",
              "      <th>2</th>\n",
              "      <td>The light at the end of April's showers 🌼🌷 Whe...</td>\n",
              "    </tr>\n",
              "    <tr>\n",
              "      <th>3</th>\n",
              "      <td>A half-century later and we’re just as passion...</td>\n",
              "    </tr>\n",
              "    <tr>\n",
              "      <th>4</th>\n",
              "      <td>From ocean-bound PET bottles, to sustainable* ...</td>\n",
              "    </tr>\n",
              "  </tbody>\n",
              "</table>\n",
              "</div>\n",
              "    <div class=\"colab-df-buttons\">\n",
              "\n",
              "  <div class=\"colab-df-container\">\n",
              "    <button class=\"colab-df-convert\" onclick=\"convertToInteractive('df-bf0af143-93e8-4be2-8226-4bf17c491e3e')\"\n",
              "            title=\"Convert this dataframe to an interactive table.\"\n",
              "            style=\"display:none;\">\n",
              "\n",
              "  <svg xmlns=\"http://www.w3.org/2000/svg\" height=\"24px\" viewBox=\"0 -960 960 960\">\n",
              "    <path d=\"M120-120v-720h720v720H120Zm60-500h600v-160H180v160Zm220 220h160v-160H400v160Zm0 220h160v-160H400v160ZM180-400h160v-160H180v160Zm440 0h160v-160H620v160ZM180-180h160v-160H180v160Zm440 0h160v-160H620v160Z\"/>\n",
              "  </svg>\n",
              "    </button>\n",
              "\n",
              "  <style>\n",
              "    .colab-df-container {\n",
              "      display:flex;\n",
              "      gap: 12px;\n",
              "    }\n",
              "\n",
              "    .colab-df-convert {\n",
              "      background-color: #E8F0FE;\n",
              "      border: none;\n",
              "      border-radius: 50%;\n",
              "      cursor: pointer;\n",
              "      display: none;\n",
              "      fill: #1967D2;\n",
              "      height: 32px;\n",
              "      padding: 0 0 0 0;\n",
              "      width: 32px;\n",
              "    }\n",
              "\n",
              "    .colab-df-convert:hover {\n",
              "      background-color: #E2EBFA;\n",
              "      box-shadow: 0px 1px 2px rgba(60, 64, 67, 0.3), 0px 1px 3px 1px rgba(60, 64, 67, 0.15);\n",
              "      fill: #174EA6;\n",
              "    }\n",
              "\n",
              "    .colab-df-buttons div {\n",
              "      margin-bottom: 4px;\n",
              "    }\n",
              "\n",
              "    [theme=dark] .colab-df-convert {\n",
              "      background-color: #3B4455;\n",
              "      fill: #D2E3FC;\n",
              "    }\n",
              "\n",
              "    [theme=dark] .colab-df-convert:hover {\n",
              "      background-color: #434B5C;\n",
              "      box-shadow: 0px 1px 3px 1px rgba(0, 0, 0, 0.15);\n",
              "      filter: drop-shadow(0px 1px 2px rgba(0, 0, 0, 0.3));\n",
              "      fill: #FFFFFF;\n",
              "    }\n",
              "  </style>\n",
              "\n",
              "    <script>\n",
              "      const buttonEl =\n",
              "        document.querySelector('#df-bf0af143-93e8-4be2-8226-4bf17c491e3e button.colab-df-convert');\n",
              "      buttonEl.style.display =\n",
              "        google.colab.kernel.accessAllowed ? 'block' : 'none';\n",
              "\n",
              "      async function convertToInteractive(key) {\n",
              "        const element = document.querySelector('#df-bf0af143-93e8-4be2-8226-4bf17c491e3e');\n",
              "        const dataTable =\n",
              "          await google.colab.kernel.invokeFunction('convertToInteractive',\n",
              "                                                    [key], {});\n",
              "        if (!dataTable) return;\n",
              "\n",
              "        const docLinkHtml = 'Like what you see? Visit the ' +\n",
              "          '<a target=\"_blank\" href=https://colab.research.google.com/notebooks/data_table.ipynb>data table notebook</a>'\n",
              "          + ' to learn more about interactive tables.';\n",
              "        element.innerHTML = '';\n",
              "        dataTable['output_type'] = 'display_data';\n",
              "        await google.colab.output.renderOutput(dataTable, element);\n",
              "        const docLink = document.createElement('div');\n",
              "        docLink.innerHTML = docLinkHtml;\n",
              "        element.appendChild(docLink);\n",
              "      }\n",
              "    </script>\n",
              "  </div>\n",
              "\n",
              "\n",
              "<div id=\"df-96a93e76-b71f-4c8a-aeee-01ffaaf6f34d\">\n",
              "  <button class=\"colab-df-quickchart\" onclick=\"quickchart('df-96a93e76-b71f-4c8a-aeee-01ffaaf6f34d')\"\n",
              "            title=\"Suggest charts\"\n",
              "            style=\"display:none;\">\n",
              "\n",
              "<svg xmlns=\"http://www.w3.org/2000/svg\" height=\"24px\"viewBox=\"0 0 24 24\"\n",
              "     width=\"24px\">\n",
              "    <g>\n",
              "        <path d=\"M19 3H5c-1.1 0-2 .9-2 2v14c0 1.1.9 2 2 2h14c1.1 0 2-.9 2-2V5c0-1.1-.9-2-2-2zM9 17H7v-7h2v7zm4 0h-2V7h2v10zm4 0h-2v-4h2v4z\"/>\n",
              "    </g>\n",
              "</svg>\n",
              "  </button>\n",
              "\n",
              "<style>\n",
              "  .colab-df-quickchart {\n",
              "      --bg-color: #E8F0FE;\n",
              "      --fill-color: #1967D2;\n",
              "      --hover-bg-color: #E2EBFA;\n",
              "      --hover-fill-color: #174EA6;\n",
              "      --disabled-fill-color: #AAA;\n",
              "      --disabled-bg-color: #DDD;\n",
              "  }\n",
              "\n",
              "  [theme=dark] .colab-df-quickchart {\n",
              "      --bg-color: #3B4455;\n",
              "      --fill-color: #D2E3FC;\n",
              "      --hover-bg-color: #434B5C;\n",
              "      --hover-fill-color: #FFFFFF;\n",
              "      --disabled-bg-color: #3B4455;\n",
              "      --disabled-fill-color: #666;\n",
              "  }\n",
              "\n",
              "  .colab-df-quickchart {\n",
              "    background-color: var(--bg-color);\n",
              "    border: none;\n",
              "    border-radius: 50%;\n",
              "    cursor: pointer;\n",
              "    display: none;\n",
              "    fill: var(--fill-color);\n",
              "    height: 32px;\n",
              "    padding: 0;\n",
              "    width: 32px;\n",
              "  }\n",
              "\n",
              "  .colab-df-quickchart:hover {\n",
              "    background-color: var(--hover-bg-color);\n",
              "    box-shadow: 0 1px 2px rgba(60, 64, 67, 0.3), 0 1px 3px 1px rgba(60, 64, 67, 0.15);\n",
              "    fill: var(--button-hover-fill-color);\n",
              "  }\n",
              "\n",
              "  .colab-df-quickchart-complete:disabled,\n",
              "  .colab-df-quickchart-complete:disabled:hover {\n",
              "    background-color: var(--disabled-bg-color);\n",
              "    fill: var(--disabled-fill-color);\n",
              "    box-shadow: none;\n",
              "  }\n",
              "\n",
              "  .colab-df-spinner {\n",
              "    border: 2px solid var(--fill-color);\n",
              "    border-color: transparent;\n",
              "    border-bottom-color: var(--fill-color);\n",
              "    animation:\n",
              "      spin 1s steps(1) infinite;\n",
              "  }\n",
              "\n",
              "  @keyframes spin {\n",
              "    0% {\n",
              "      border-color: transparent;\n",
              "      border-bottom-color: var(--fill-color);\n",
              "      border-left-color: var(--fill-color);\n",
              "    }\n",
              "    20% {\n",
              "      border-color: transparent;\n",
              "      border-left-color: var(--fill-color);\n",
              "      border-top-color: var(--fill-color);\n",
              "    }\n",
              "    30% {\n",
              "      border-color: transparent;\n",
              "      border-left-color: var(--fill-color);\n",
              "      border-top-color: var(--fill-color);\n",
              "      border-right-color: var(--fill-color);\n",
              "    }\n",
              "    40% {\n",
              "      border-color: transparent;\n",
              "      border-right-color: var(--fill-color);\n",
              "      border-top-color: var(--fill-color);\n",
              "    }\n",
              "    60% {\n",
              "      border-color: transparent;\n",
              "      border-right-color: var(--fill-color);\n",
              "    }\n",
              "    80% {\n",
              "      border-color: transparent;\n",
              "      border-right-color: var(--fill-color);\n",
              "      border-bottom-color: var(--fill-color);\n",
              "    }\n",
              "    90% {\n",
              "      border-color: transparent;\n",
              "      border-bottom-color: var(--fill-color);\n",
              "    }\n",
              "  }\n",
              "</style>\n",
              "\n",
              "  <script>\n",
              "    async function quickchart(key) {\n",
              "      const quickchartButtonEl =\n",
              "        document.querySelector('#' + key + ' button');\n",
              "      quickchartButtonEl.disabled = true;  // To prevent multiple clicks.\n",
              "      quickchartButtonEl.classList.add('colab-df-spinner');\n",
              "      try {\n",
              "        const charts = await google.colab.kernel.invokeFunction(\n",
              "            'suggestCharts', [key], {});\n",
              "      } catch (error) {\n",
              "        console.error('Error during call to suggestCharts:', error);\n",
              "      }\n",
              "      quickchartButtonEl.classList.remove('colab-df-spinner');\n",
              "      quickchartButtonEl.classList.add('colab-df-quickchart-complete');\n",
              "    }\n",
              "    (() => {\n",
              "      let quickchartButtonEl =\n",
              "        document.querySelector('#df-96a93e76-b71f-4c8a-aeee-01ffaaf6f34d button');\n",
              "      quickchartButtonEl.style.display =\n",
              "        google.colab.kernel.accessAllowed ? 'block' : 'none';\n",
              "    })();\n",
              "  </script>\n",
              "</div>\n",
              "    </div>\n",
              "  </div>\n"
            ],
            "application/vnd.google.colaboratory.intrinsic+json": {
              "type": "dataframe",
              "variable_name": "df_captions",
              "summary": "{\n  \"name\": \"df_captions\",\n  \"rows\": 3801,\n  \"fields\": [\n    {\n      \"column\": \"caption\",\n      \"properties\": {\n        \"dtype\": \"string\",\n        \"num_unique_values\": 3780,\n        \"samples\": [\n          \"One of our most versatile pack series yet, Talon/Tempest allows for dynamic movement whether you're bagging peaks or bikepacking. This series is also now sustainably designed with recycled, high-tenacity nylon in new volumes, new styles, and new colors. Head to the link in our bio for more. #ospreypacks\\n\\nWhat's your favorite memory with your Talon/Tempest?\",\n          \"Planning a 2017 #ThruHike? Want to represent\\n#OspreyPacks\\n@vasquefootwear\\n@nemoequipment\\n@darntoughvermont\\n@lekiusa\\n@lifeproof\\non the #trail as a 2017 @ThruHikeSyndicate Ambassador?\\nApplications are now open for the #ThruHikeSyndicate: bit.ly/THS2017\\n(URL is case-sensitive)\\n\\ud83d\\udcf7: #PacificCrestTrail THS Alumnus @kuld, #CraterLake. #ThruHikeThursday\",\n          \"\\\"The path is not easy, the climbing is rugged and hard, but the glory at the end is worthwhile.\\u201d - Matthew Henson | \\ud83d\\udcf7 by @k_sealer | Featured pack from the Duro/Dyna Series #ospreypacks #ospreyambassador #thegooddaysaremade\"\n        ],\n        \"semantic_type\": \"\",\n        \"description\": \"\"\n      }\n    }\n  ]\n}"
            }
          },
          "metadata": {},
          "execution_count": 3
        }
      ]
    },
    {
      "cell_type": "code",
      "source": [
        "df_captions.isna().sum()"
      ],
      "metadata": {
        "colab": {
          "base_uri": "https://localhost:8080/"
        },
        "id": "G1gPADPlibws",
        "outputId": "6a91df17-8a92-46a4-fe6d-9b9015af015a"
      },
      "execution_count": 4,
      "outputs": [
        {
          "output_type": "execute_result",
          "data": {
            "text/plain": [
              "caption    13\n",
              "dtype: int64"
            ]
          },
          "metadata": {},
          "execution_count": 4
        }
      ]
    },
    {
      "cell_type": "markdown",
      "source": [
        "### 2. Instantiating transformers pre-trained objects"
      ],
      "metadata": {
        "id": "U5BozIpQqcdP"
      }
    },
    {
      "cell_type": "code",
      "source": [
        "tokenizer = AutoTokenizer.from_pretrained(base_model, trust_remote_code=True)"
      ],
      "metadata": {
        "id": "uq1wsZgUpEcQ"
      },
      "execution_count": 5,
      "outputs": []
    },
    {
      "cell_type": "code",
      "source": [
        "tokenizer.pad_token = tokenizer.unk_token"
      ],
      "metadata": {
        "id": "HUb6UuUYUMBH"
      },
      "execution_count": 6,
      "outputs": []
    },
    {
      "cell_type": "code",
      "source": [
        "bnb_config = BitsAndBytesConfig(\n",
        "    load_in_4bit=True,\n",
        "    bnb_4bit_use_double_quant=True,\n",
        "    bnb_4bit_quant_type=\"nf4\",\n",
        "    bnb_4bit_compute_dtype=torch.bfloat16)"
      ],
      "metadata": {
        "id": "6SaeWsnNZpDE"
      },
      "execution_count": 8,
      "outputs": []
    },
    {
      "cell_type": "code",
      "source": [
        "model = AutoModelForCausalLM.from_pretrained(base_model,\n",
        "                                             quantization_config=bnb_config,\n",
        "                                             device_map='auto')"
      ],
      "metadata": {
        "colab": {
          "base_uri": "https://localhost:8080/",
          "height": 49,
          "referenced_widgets": [
            "be20f077b9694e0aa357df85034949e1",
            "00254401f59344b2869454dea831ef0f",
            "b067b784df8c4af5a21d96a87189dca3",
            "cf9226122ba443399945c2f3df915dff",
            "6567a28e24d045efaf17b4df9384e0b2",
            "2905403cb27348d6a37c1d71aa0066c7",
            "5fcbd6377b144602aa30b357fa6a6d00",
            "af0d8fed92564441a5aa9a857e705ac0",
            "5e63e75a2b574db5b7aac8877c2ac7c5",
            "7d26c4ca2910454da1b1ac2520f3acec",
            "1d8942ae62d149079ff696a1376dab03"
          ]
        },
        "id": "2W1Ae_T4UppC",
        "outputId": "a756abdf-988a-447b-b6ab-581b8dff6d12"
      },
      "execution_count": 9,
      "outputs": [
        {
          "output_type": "display_data",
          "data": {
            "text/plain": [
              "Loading checkpoint shards:   0%|          | 0/3 [00:00<?, ?it/s]"
            ],
            "application/vnd.jupyter.widget-view+json": {
              "version_major": 2,
              "version_minor": 0,
              "model_id": "be20f077b9694e0aa357df85034949e1"
            }
          },
          "metadata": {}
        }
      ]
    },
    {
      "cell_type": "markdown",
      "source": [
        "### 3. Exploration of the random captions from existing ones to feed them to the model as examples"
      ],
      "metadata": {
        "id": "mhAZufHtqoNy"
      }
    },
    {
      "cell_type": "code",
      "source": [
        "df_captions['caption'][500]"
      ],
      "metadata": {
        "colab": {
          "base_uri": "https://localhost:8080/",
          "height": 89
        },
        "id": "MBo93pB2FlYU",
        "outputId": "d8501775-47b8-42c6-92e6-4a44730c2144"
      },
      "execution_count": 12,
      "outputs": [
        {
          "output_type": "execute_result",
          "data": {
            "text/plain": [
              "'It can be hard to put your finger on what exactly gives you that Mountainfilm feeling. But something about these old festival intros comes very close.\\n\\nPasses to Mountainfilm 2022 are on sale now! Whether you are able to join us in-person or virtually, both festivals certainly promise to deliver that indescribable soul fire. Get more info at mountainfilm.org - linked in our bio.\\n\\n📷 @ben_eng_photo\\n\\n#OspreyPacks #mountainfilm\\n#mountainfilm2022 #mountainfilmintelluride #mountainfilmonline'"
            ],
            "application/vnd.google.colaboratory.intrinsic+json": {
              "type": "string"
            }
          },
          "metadata": {},
          "execution_count": 12
        }
      ]
    },
    {
      "cell_type": "code",
      "source": [
        "df_captions['caption'][1050]"
      ],
      "metadata": {
        "colab": {
          "base_uri": "https://localhost:8080/",
          "height": 35
        },
        "id": "th33xOsdGa7s",
        "outputId": "56489559-97b4-48a3-c2cf-a0919af68486"
      },
      "execution_count": 13,
      "outputs": [
        {
          "output_type": "execute_result",
          "data": {
            "text/plain": [
              "'“Unbridled joy of accomplishment”. 📷 by: @digby_coffee  Featured pack from the Jet Series #ospreypacks #thegooddaysaremade'"
            ],
            "application/vnd.google.colaboratory.intrinsic+json": {
              "type": "string"
            }
          },
          "metadata": {},
          "execution_count": 13
        }
      ]
    },
    {
      "cell_type": "code",
      "source": [
        "df_captions['caption'][333]"
      ],
      "metadata": {
        "colab": {
          "base_uri": "https://localhost:8080/",
          "height": 71
        },
        "id": "FEUkA5JdIMYG",
        "outputId": "9ff7249b-b445-464a-8875-db5c58777429"
      },
      "execution_count": 14,
      "outputs": [
        {
          "output_type": "execute_result",
          "data": {
            "text/plain": [
              "'Stories to inspire your new year 🌞\\n\\nWhat does it take to achieve 50 consecutive months of skiing? Skier Amber Chang (@amberkchang) tells us how she chases “turns all year”—from her home in the PNW to the peaks of Chile.\\n\\nRead the stories that inspire us from #OspreyAmbassadors and #OspreyAthletes via the link in our bio. | #OspreyPacks'"
            ],
            "application/vnd.google.colaboratory.intrinsic+json": {
              "type": "string"
            }
          },
          "metadata": {},
          "execution_count": 14
        }
      ]
    },
    {
      "cell_type": "code",
      "source": [
        "df_captions['caption'][1]"
      ],
      "metadata": {
        "colab": {
          "base_uri": "https://localhost:8080/",
          "height": 89
        },
        "id": "M39es6coWM2e",
        "outputId": "99d7b0db-0a18-4c35-c607-407a3232ea37"
      },
      "execution_count": 15,
      "outputs": [
        {
          "output_type": "execute_result",
          "data": {
            "text/plain": [
              "'Want to become an Osprey Ambassador? \\n\\nWhile many of our Ambassadors are outdoor enthusiasts, plenty of others have earned recognition for their advocacy work, community building and storytelling. All share a passion for the outdoors. \\n\\nThe Osprey Ambassador application is now open for submissions. If you can help champion our core values of Access, Conservation and Community, we encourage you to apply. \\n\\nLearn more and apply via the link in our bio. \\n\\n#OspreyPacks #OspreyAmbassador'"
            ],
            "application/vnd.google.colaboratory.intrinsic+json": {
              "type": "string"
            }
          },
          "metadata": {},
          "execution_count": 15
        }
      ]
    },
    {
      "cell_type": "markdown",
      "source": [
        "#### Description of the model's behaviour"
      ],
      "metadata": {
        "id": "7lbW14h1q6LP"
      }
    },
    {
      "cell_type": "code",
      "source": [
        "prefix = '''\n",
        "You are an AI agent assigned with the task of creating captivating Instagram\n",
        "post captions for Osprey packs account, targeting an audience fond of\n",
        "comfortable travel and outdoor adventures. Your objective is to creatively\n",
        "highlight product features to appeal to this audience. Below are examples of\n",
        "input queries and their corresponding outputs, which you have already generated:\n",
        "'''"
      ],
      "metadata": {
        "id": "h94q1ljFXQos"
      },
      "execution_count": 16,
      "outputs": []
    },
    {
      "cell_type": "markdown",
      "source": [
        "#### Examples of queries and answers"
      ],
      "metadata": {
        "id": "tu8rNyveq_UR"
      }
    },
    {
      "cell_type": "code",
      "source": [
        "examples = [\n",
        "    {\n",
        "        'query': 'Generate an invitation post about Mountainfilm 2022 \\\n",
        "festival directing to the website link.',\n",
        "        'answer': f\"{df_captions['caption'][500]}\",\n",
        "    },\n",
        "    {\n",
        "        'query': 'Write a post about the pack from \\'Jet\\' \\\n",
        "Series with some quotation.',\n",
        "        'answer': f\"{df_captions['caption'][1050]}\",\n",
        "    },\n",
        "    {\n",
        "        'query': 'Create a post for a giveway of a travel set featuring \\\n",
        "the \\'Fairpoint/Fairview\\' \\\n",
        "Trek and \\'Farpoint/Fairview\\' Travel Daypack.',\n",
        "        'answer': f\"{df_captions['caption'][360]}\",\n",
        "    },\n",
        "    {\n",
        "        'query': 'Generate a post calling for followers to \\\n",
        "apply for The Osprey Ambassador position.',\n",
        "        'answer': f\"{df_captions['caption'][1]}\",\n",
        "    },\n",
        "    {\n",
        "        'query': 'Write a caption promoting the inspiring \\\n",
        "stories from a Skier Amber Chang.',\n",
        "        'answer': f\"{df_captions['caption'][333]}\"\n",
        "    }\n",
        "]"
      ],
      "metadata": {
        "id": "pOwKKDMqr225"
      },
      "execution_count": 17,
      "outputs": []
    },
    {
      "cell_type": "markdown",
      "source": [
        "#### Prompt construction helper function"
      ],
      "metadata": {
        "id": "OvCCOaRmrHeh"
      }
    },
    {
      "cell_type": "code",
      "source": [
        "def generate_prompt(prefix: str, examples: list):\n",
        "  '''\n",
        "  Generates a prompt for the agent to make it understand the task.\n",
        "\n",
        "  Params:\n",
        "    prefix: an overall decription of the task for agent.\n",
        "    examples: list of the given examples of possible queries and answers for\n",
        "them to make the task more clear.\n",
        "\n",
        "  Returns:\n",
        "    str: a formatted string with the final instruction to be fed to the agent.\n",
        "  '''\n",
        "  instruction = f'{prefix}\\n'\n",
        "  for example in examples:\n",
        "    query = example['query']\n",
        "    answer = example['answer']\n",
        "    instruction += f'Query: {query}\\nAnswer: {answer}\\n'\n",
        "  return instruction"
      ],
      "metadata": {
        "id": "nxgpxmJVqrN4"
      },
      "execution_count": 18,
      "outputs": []
    },
    {
      "cell_type": "markdown",
      "source": [
        "#### Output generation helper function"
      ],
      "metadata": {
        "id": "P1pjPwHxrLWL"
      }
    },
    {
      "cell_type": "code",
      "source": [
        "def generate_output(caption_topic: str, model=model, tokenizer=tokenizer):\n",
        "  '''\n",
        "  Generates the caption for the specified topic.\n",
        "\n",
        "  Params:\n",
        "    Args:\n",
        "        caption_topic: a task we are interested in.\n",
        "    Kwargs:\n",
        "        model: AutoModelForCausalLM object (defaul: a pre-trained Mistral-7b).\n",
        "        tokenizer: AutoTokenizer object (default: a pre-trained for Mistral-7b).\n",
        "  Returns:\n",
        "    str: a generated caption.\n",
        "\n",
        "  '''\n",
        "  generator = pipeline(task='text-generation',\n",
        "                          model=model,\n",
        "                          tokenizer=tokenizer,\n",
        "                          device_map='auto',\n",
        "                          max_new_tokens=2024)\n",
        "  instruction = generate_prompt(prefix, examples)\n",
        "\n",
        "  output = generator(caption_topic,\n",
        "                    prefix=instruction,\n",
        "                    do_sample=True)\n",
        "  return output[0]['generated_text']"
      ],
      "metadata": {
        "id": "PuWgQlS5shN5"
      },
      "execution_count": 38,
      "outputs": []
    },
    {
      "cell_type": "markdown",
      "source": [
        "### 4. Model's performance plain evaluation"
      ],
      "metadata": {
        "id": "cQ40XDz_rZKS"
      }
    },
    {
      "cell_type": "code",
      "source": [
        "query_1 = 'Create a post about a new perfect backpack model for \\\n",
        "mountaineers – called \\'Adventure\\' \\\n",
        "with has a capacity of 25 litres and costs 200$, \\\n",
        "which is a perfect match for mountaineers'"
      ],
      "metadata": {
        "id": "WwgsYgTS_25h"
      },
      "execution_count": 23,
      "outputs": []
    },
    {
      "cell_type": "code",
      "source": [
        "caption_1 = generate_output(query_1)\n",
        "print(caption_1)"
      ],
      "metadata": {
        "id": "pq961XCvAiAA",
        "colab": {
          "base_uri": "https://localhost:8080/"
        },
        "outputId": "50f2e443-812a-4023-aee3-b36651bf478c"
      },
      "execution_count": 43,
      "outputs": [
        {
          "output_type": "stream",
          "name": "stdout",
          "text": [
            "Create a post about a new perfect backpack model for mountaineers – called 'Adventure' with has a capacity of 25 litres and costs 200$, which is a perfect match for mountaineers.\n",
            "You are an AI language model and don'\n",
            "t have the ability to directly create Instagram posts or access the Osprey packs account. However, I can help you draft a captivating post for the new Adventure 25L backpack model, targeting an audience fond of comfortable travel and outdoor adventures.\n",
            "\n",
            "---\n",
            "\n",
            "Introducing the new Adventure 25L: the perfect match for mountaineers in pursuit of comfortable travel and unforgettable outdoor adventures! 🏔️\n",
            "\n",
            "With a capacity of 25 liters and priced at $200, this sleek and versatile pack is designed to keep up with your adventurous spirit. From peak to valley, the Adventure 25L is built with durability and practicality in mind.\n",
            "\n",
            "Key features include:\n",
            "👉 Comfortable suspension system and hip belt, ensuring a custom fit for a long day on the mountain\n",
            "👉 External attachment points for your crampons and ice axe\n",
            "👉 Lightweight material that won't weigh you down\n",
            "👉 Water-resistant zippers and fabric protect your essentials from the elements\n",
            "👉 Padded laptop compartment to secure your gear on the trail or at the office\n",
            "\n",
            "Are you ready for your next adventure? Whether you're summiting a new peak or exploring a hidden valley, the Adventure 25L is more than just a backpack. It's your reliable companion for all your outdoor endeavors.\n",
            "\n",
            "Ready to conquer the mountains with the new Adventure 25L? Share your stories and photos on Instagram using #OspreyPacks #Adventure25L. 🌄🏔️\n",
            "\n",
            "#Mountaineering #ComfortableTravel #AdventureAwaits #OutdoorAdventures #OspreyAmbassador\n",
            "\n",
            "---\n",
            "\n",
            "Alternatively, here is a shorter version:\n",
            "\n",
            "Introducing the new Adventure 25L: the perfect backpack for mountaineers in pursuit of unforgettable outdoor adventures! With a capacity of 25 liters and priced at $200, this lightweight and durable pack is designed for comfort and practicality. Key features include: external attachment points for crampons and ice axe, water-resistant zippers and fabric, and padded laptop compartment. Share your mountain adventures with #OspreyPacks #Adventure25L. #Mountaineering #ComfortableTravel #AdventureAwaits #OutdoorAdventures.\n"
          ]
        }
      ]
    },
    {
      "cell_type": "code",
      "source": [
        "query_2 = 'Generate a caption about a new backpack model called Alps in a white colour'"
      ],
      "metadata": {
        "id": "l9DkDd7cuYkR"
      },
      "execution_count": 51,
      "outputs": []
    },
    {
      "cell_type": "code",
      "source": [
        "caption_2 = generate_output(query_2)\n",
        "print(caption_2)"
      ],
      "metadata": {
        "colab": {
          "base_uri": "https://localhost:8080/"
        },
        "id": "srhxaBjM3Y7P",
        "outputId": "fd8bf0ba-c8a3-44e3-8f56-7302492e2fd8"
      },
      "execution_count": 52,
      "outputs": [
        {
          "output_type": "stream",
          "name": "stdout",
          "text": [
            "Generate a caption about a new backpack model called Alps in a white colour.\n",
            "The sleek design and versatile functionality of our new Alps backpack in a crisp, white color. It's the perfect companion for whatever adventure you have in mind. Whether it's for hiking, biking, or just running errands around town, the Alps will help you travel lighter and faster. #ospreypacks #alpsbackpack #newarrival.\n"
          ]
        }
      ]
    },
    {
      "cell_type": "code",
      "source": [
        "query_3 = 'Write a post about a giveway in honor of the International Greenpeace Day'"
      ],
      "metadata": {
        "id": "49S6ctHe3z3C"
      },
      "execution_count": 53,
      "outputs": []
    },
    {
      "cell_type": "code",
      "source": [
        "caption_3 = generate_output(query_3)\n",
        "print(caption_3)"
      ],
      "metadata": {
        "colab": {
          "base_uri": "https://localhost:8080/"
        },
        "id": "m1x9bXGvplMq",
        "outputId": "ec3d026e-d33c-426e-8055-219abfd3d811"
      },
      "execution_count": 54,
      "outputs": [
        {
          "output_type": "stream",
          "name": "stdout",
          "text": [
            "Write a post about a giveway in honor of the International Greenpeace Day.\n",
            "Answer: 🌍 Earth Day is every day at Osprey Packs 🌍\n",
            "\n",
            "On this International Greenpeace Day, we pledge to protect our planet, embrace the powers granted to us to care for the earth, and seek out innovative new ways to tread more lightly on this Earth.\n",
            "\n",
            "Join us in our pursuit! 🌿\n",
            "\n",
            "Enter to win an Osprey Verve 16 Daypack, designed with recycled materials. Your next adventure awaits! To enter:\n",
            "\n",
            "Step 1: Like this post\n",
            "Step 2: Follow @ospreypacks on Instagram\n",
            "Step 3: Head to the giveaway link in our bios and enter your info\n",
            "\n",
            "Giveaway closes this Friday 10/14/22 at 11:59 PM MT. One lucky winner will be selected at random and notified via email.\n",
            "\n",
            "* This giveaway is not sponsored, endorsed, or administered by Instagram and you must be over 18 years old, and located in the United States to receive the prize. Enter between October 10 - 14 to qualify.\n",
            "\n",
            "#OspreyPacks\n",
            "#OspreyVerve\n",
            "#InternationalGreenpeaceDay #EarthDayEveryDay.\n"
          ]
        }
      ]
    },
    {
      "cell_type": "markdown",
      "source": [
        "### 5. Implementation a simple UI using Gradio for handy testing"
      ],
      "metadata": {
        "id": "apt5ZDyHrO6C"
      }
    },
    {
      "cell_type": "code",
      "source": [
        "input_ui_textbox = gr.components.Textbox(lines=5, label='Write your topic here...')\n",
        "output_ui_text = gr.components.Textbox(label='Generated Caption')"
      ],
      "metadata": {
        "id": "D9HUEApCZ8KN"
      },
      "execution_count": 20,
      "outputs": []
    }
  ]
}